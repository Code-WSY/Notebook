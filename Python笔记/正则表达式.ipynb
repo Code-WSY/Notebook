{
 "cells": [
  {
   "cell_type": "markdown",
   "id": "fbcab249",
   "metadata": {},
   "source": [
    "# 正则表达式"
   ]
  },
  {
   "cell_type": "markdown",
   "id": "a33ef100",
   "metadata": {},
   "source": [
    "## 导入模块"
   ]
  },
  {
   "cell_type": "code",
   "execution_count": 43,
   "id": "1ba4098b",
   "metadata": {
    "ExecuteTime": {
     "end_time": "2023-09-08T03:12:41.009383Z",
     "start_time": "2023-09-08T03:12:41.005904Z"
    }
   },
   "outputs": [],
   "source": [
    "import re"
   ]
  },
  {
   "cell_type": "markdown",
   "id": "4ed7f2c8",
   "metadata": {},
   "source": [
    "## 匹配函数"
   ]
  },
  {
   "cell_type": "markdown",
   "id": "a21d466d",
   "metadata": {},
   "source": [
    "### 函数语法\n",
    "\n",
    "```python\n",
    "    re.match(pattern, string, flags=0)\n",
    "    re.search(pattern,string, flags=0)\n",
    "    re.findall(pattern, string, flags=0)\n",
    "    re.finditer(pattern, string, flags=0)\n",
    "```\n",
    "- **re.match**: 从字符串的起始位置匹配一个模式，如果不是起始位置匹配成功的话，返回none。\n",
    "- **re.search**: 扫描整个字符串并返回第一个成功的匹配。\n",
    "- **re.findall**: 返回字符串中所有与模式匹配的非重叠匹配项的列表。\n",
    "- **re.finditer**: 返回一个迭代器，包含与模式匹配的非重叠匹配项的匹配对象。"
   ]
  },
  {
   "cell_type": "markdown",
   "id": "e196d69d",
   "metadata": {},
   "source": [
    "### 参数说明\n",
    "1. **pattern（模式）**\n",
    "\n",
    "    - 一个字符串，表示要匹配的正则表达式模式。用于在文本中查找特定的模式。\n",
    "    - 例如，pattern可以是一个简单的字符串模式，如 'hello'，也可以是一个更复杂的正则表达式模式，如 '[0-9]+'（匹配一个或多个数字）。\n",
    "    - pattern可以包含特殊字符和元字符，用于指定匹配规则和模式的特定部分。\n",
    "<br>\n",
    "\n",
    "2. **string（目标字符串）**\n",
    "\n",
    "    - 搜索匹配的目标字符串。\n",
    "    - re.match()函数将尝试从目标字符串的起始位置开始匹配模式。\n",
    "<br>\n",
    "\n",
    "3. **flags（标志）（可选）**\n",
    "\n",
    "    - 可选的参数，用于控制正则表达式的匹配方式。\n",
    "    - 可以使用标志来 修改匹配的行为 ，例如忽略大小写、多行匹配等。\n",
    "    - flags可以使用多个标志组合，以逻辑或（|）操作符分隔。"
   ]
  },
  {
   "cell_type": "markdown",
   "id": "1829c6f8",
   "metadata": {},
   "source": [
    "匹配成功 re.match 方法返回一个匹配的对象，否则返回 None。"
   ]
  },
  {
   "cell_type": "markdown",
   "id": "215b1fdc",
   "metadata": {},
   "source": [
    "**获取匹配对象：**"
   ]
  },
  {
   "cell_type": "markdown",
   "id": "c5d05610",
   "metadata": {},
   "source": [
    "匹配对象具有以下常用方法和属性：\n",
    "\n",
    "1. **group()方法**：\n",
    "     - 该方法返回匹配的字符串。\n",
    "     - 如果模式中使用了分组（**正则表达式中使用圆括号括起来的部分**），可以通过**传递分组的索引**或**分组的名称**来获取特定分组的匹配结果，表示从1到所含的小组号。group(num=0)表示匹配的整个表达式的字符串。\n",
    "\n",
    "\n",
    "2. **start()方法**：\n",
    "    - 该方法返回匹配的**起始位置**在目标字符串中的**索引**。\n",
    "\n",
    "\n",
    "3. **end()方法**：\n",
    "     - 该方法返回匹配的**结束位置**在目标字符串中的**索引**。\n",
    "\n",
    "\n",
    "4. **span()方法**：\n",
    "     - 该方法返回一个元组，包含匹配的**起始位置**和**结束位置**的索引。"
   ]
  },
  {
   "cell_type": "markdown",
   "id": "591ba38a",
   "metadata": {},
   "source": [
    "### 示例"
   ]
  },
  {
   "cell_type": "markdown",
   "id": "d8ee7b54",
   "metadata": {},
   "source": [
    "#### re.match"
   ]
  },
  {
   "cell_type": "code",
   "execution_count": 73,
   "id": "c88e3597",
   "metadata": {
    "ExecuteTime": {
     "end_time": "2023-09-08T04:51:15.434527Z",
     "start_time": "2023-09-08T04:51:15.429011Z"
    },
    "scrolled": true
   },
   "outputs": [
    {
     "name": "stdout",
     "output_type": "stream",
     "text": [
      "匹配成功\n"
     ]
    }
   ],
   "source": [
    "import re\n",
    "\n",
    "pattern = r\"hello\"\n",
    "string = \"hello world\"\n",
    "\n",
    "result = re.match(pattern, string)\n",
    "if result:\n",
    "    print(\"匹配成功\")\n",
    "else:\n",
    "    print(\"匹配失败\")"
   ]
  },
  {
   "cell_type": "markdown",
   "id": "75c22c44",
   "metadata": {},
   "source": [
    "#### re.search"
   ]
  },
  {
   "cell_type": "code",
   "execution_count": 74,
   "id": "931c1f10",
   "metadata": {
    "ExecuteTime": {
     "end_time": "2023-09-08T04:51:35.051116Z",
     "start_time": "2023-09-08T04:51:35.046754Z"
    }
   },
   "outputs": [
    {
     "name": "stdout",
     "output_type": "stream",
     "text": [
      "匹配成功\n"
     ]
    }
   ],
   "source": [
    "import re\n",
    "\n",
    "pattern = r\"world\"\n",
    "string = \"hello world\"\n",
    "\n",
    "result = re.search(pattern, string)\n",
    "if result:\n",
    "    print(\"匹配成功\")\n",
    "else:\n",
    "    print(\"匹配失败\")"
   ]
  },
  {
   "cell_type": "markdown",
   "id": "81ff5283",
   "metadata": {},
   "source": [
    "#### re.findall"
   ]
  },
  {
   "cell_type": "code",
   "execution_count": 75,
   "id": "776f8503",
   "metadata": {
    "ExecuteTime": {
     "end_time": "2023-09-08T04:52:06.673598Z",
     "start_time": "2023-09-08T04:52:06.669589Z"
    }
   },
   "outputs": [
    {
     "name": "stdout",
     "output_type": "stream",
     "text": [
      "['123', '456']\n"
     ]
    }
   ],
   "source": [
    "import re\n",
    "\n",
    "pattern = r\"\\d+\"\n",
    "string = \"I have 123 apples and 456 oranges\"\n",
    "\n",
    "result = re.findall(pattern, string)\n",
    "print(result)"
   ]
  },
  {
   "cell_type": "markdown",
   "id": "ed04f6f7",
   "metadata": {},
   "source": [
    "#### re.finditer"
   ]
  },
  {
   "cell_type": "code",
   "execution_count": 77,
   "id": "525d06ba",
   "metadata": {
    "ExecuteTime": {
     "end_time": "2023-09-08T04:52:22.474573Z",
     "start_time": "2023-09-08T04:52:22.469822Z"
    }
   },
   "outputs": [
    {
     "name": "stdout",
     "output_type": "stream",
     "text": [
      "123\n",
      "456\n"
     ]
    }
   ],
   "source": [
    "import re\n",
    "\n",
    "pattern = r\"\\d+\"\n",
    "string = \"I have 123 apples and 456 oranges\"\n",
    "#迭代器\n",
    "result = re.finditer(pattern, string)\n",
    "for match in result:\n",
    "    print(match.group())"
   ]
  },
  {
   "cell_type": "markdown",
   "id": "bec963b6",
   "metadata": {},
   "source": [
    "## 替换函数"
   ]
  },
  {
   "cell_type": "markdown",
   "id": "ef2db4fa",
   "metadata": {
    "ExecuteTime": {
     "end_time": "2023-09-08T03:28:01.771094Z",
     "start_time": "2023-09-08T03:28:01.767078Z"
    }
   },
   "source": [
    "### 函数语法"
   ]
  },
  {
   "cell_type": "markdown",
   "id": "ece2d3b7",
   "metadata": {},
   "source": [
    "```python\n",
    "re.sub(pattern, repl, string, count=0, flags=0)\n",
    "\n",
    "```\n",
    "- re.sub: 使用指定的替换字符串替换与模式匹配的所有子串。\n"
   ]
  },
  {
   "cell_type": "markdown",
   "id": "9b708249",
   "metadata": {},
   "source": [
    "### 参数说明\n",
    "- pattern: 要匹配的正则表达式模式。\n",
    "- repl: 替换匹配字符串的字符串或一个替换函数。\n",
    "- string: 要进行替换的字符串。\n",
    "- count (可选): 最大替换次数。默认为0，表示替换所有匹配项。\n",
    "- flags (可选): 匹配模式的标志。\n",
    "返回替换后的字符串。"
   ]
  },
  {
   "cell_type": "markdown",
   "id": "a6a41728",
   "metadata": {},
   "source": [
    "### 示例1"
   ]
  },
  {
   "cell_type": "code",
   "execution_count": 65,
   "id": "9f87da53",
   "metadata": {
    "ExecuteTime": {
     "end_time": "2023-09-08T04:41:43.181083Z",
     "start_time": "2023-09-08T04:41:43.176440Z"
    }
   },
   "outputs": [
    {
     "name": "stdout",
     "output_type": "stream",
     "text": [
      "I have an orange.\n"
     ]
    }
   ],
   "source": [
    "import re\n",
    "\n",
    "pattern = r\"apple\"\n",
    "repl = \"orange\"\n",
    "string = \"I have an apple.\"\n",
    "\n",
    "result = re.sub(pattern, repl, string)\n",
    "print(result)"
   ]
  },
  {
   "cell_type": "markdown",
   "id": "a99997ff",
   "metadata": {},
   "source": [
    "### 示例2"
   ]
  },
  {
   "cell_type": "code",
   "execution_count": 72,
   "id": "8d0e41fc",
   "metadata": {
    "ExecuteTime": {
     "end_time": "2023-09-08T04:46:53.682589Z",
     "start_time": "2023-09-08T04:46:53.677803Z"
    }
   },
   "outputs": [
    {
     "name": "stdout",
     "output_type": "stream",
     "text": [
      "HELLO, WORLD! HOW ARE YOU TODAY 123?\n"
     ]
    }
   ],
   "source": [
    "import re\n",
    "\n",
    "def repl_func(match):\n",
    "    word = match.group(0) #获取匹配到的完整单词\n",
    "    #print(word)\n",
    "    return word.upper()\n",
    "\n",
    "pattern = r\"\\b\\w+\\b\" \n",
    "string = \"Hello, world! How are you today 123?\"\n",
    "\n",
    "result = re.sub(pattern, repl_func, string)\n",
    "print(result)"
   ]
  },
  {
   "cell_type": "markdown",
   "id": "06ad3a59",
   "metadata": {
    "ExecuteTime": {
     "end_time": "2023-09-08T03:30:29.241942Z",
     "start_time": "2023-09-08T03:30:29.237946Z"
    }
   },
   "source": [
    "## 拆分函数"
   ]
  },
  {
   "cell_type": "markdown",
   "id": "a18face2",
   "metadata": {},
   "source": [
    "### 函数语法"
   ]
  },
  {
   "cell_type": "markdown",
   "id": "3ce14253",
   "metadata": {},
   "source": [
    "```python\n",
    "re.split(pattern, string, maxsplit=0, flags=0)\n",
    "```\n",
    "- re.split：根据给定的模式将字符串拆分为列表。"
   ]
  },
  {
   "cell_type": "markdown",
   "id": "4c56e67c",
   "metadata": {},
   "source": [
    "### 参数说明\n",
    "\n",
    "\n",
    "- pattern: 要匹配的正则表达式模式。\n",
    "- string: 要进行拆分的字符串。\n",
    "- maxsplit (可选): 最大拆分次数。默认为0，表示拆分所有匹配项。\n",
    "- flags (可选): 匹配模式的标志。\n",
    "返回一个包含拆分后子字符串的列表。"
   ]
  },
  {
   "cell_type": "markdown",
   "id": "c65913c3",
   "metadata": {},
   "source": [
    "### 示例"
   ]
  },
  {
   "cell_type": "code",
   "execution_count": 64,
   "id": "b4ac5e89",
   "metadata": {
    "ExecuteTime": {
     "end_time": "2023-09-08T04:40:08.036604Z",
     "start_time": "2023-09-08T04:40:08.032686Z"
    }
   },
   "outputs": [
    {
     "name": "stdout",
     "output_type": "stream",
     "text": [
      "['Hello', 'World', 'How', 'are', 'you', 'today?', 'I', 'am', 'fine', 'Thank', 'you']\n"
     ]
    }
   ],
   "source": [
    "import re\n",
    "\n",
    "pattern = r\"[\\s,;]+\"  # 匹配连续的空白字符(制表符，换行符)、逗号和分号\n",
    "string = \"Hello, World; How are you today?\\n I am fine; Thank you\"\n",
    "\n",
    "result = re.split(pattern, string)\n",
    "print(result)"
   ]
  },
  {
   "cell_type": "markdown",
   "id": "b672c32b",
   "metadata": {},
   "source": [
    "## 编译函数"
   ]
  },
  {
   "cell_type": "markdown",
   "id": "a6acd0f6",
   "metadata": {},
   "source": [
    "### 函数语法"
   ]
  },
  {
   "cell_type": "markdown",
   "id": "ad488ce0",
   "metadata": {},
   "source": [
    "```python\n",
    "    re.compile(pattern, flags=0)\n",
    "```\n",
    "\n",
    "- re.compile: \n",
    "    可以将正则表达式模式编译为模式对象，这样可以提高匹配效率并重复使用模式对象。它与直接使用匹配函数的区别在于，编译函数将正则表达式模式预先编译成一个可重复使用的对象，而不需要每次都重新解析和编译模式。"
   ]
  },
  {
   "cell_type": "markdown",
   "id": "d8eef8d9",
   "metadata": {},
   "source": [
    "### 示例"
   ]
  },
  {
   "cell_type": "code",
   "execution_count": 46,
   "id": "183324a3",
   "metadata": {
    "ExecuteTime": {
     "end_time": "2023-09-08T03:46:27.489326Z",
     "start_time": "2023-09-08T03:46:27.484093Z"
    }
   },
   "outputs": [
    {
     "name": "stdout",
     "output_type": "stream",
     "text": [
      "匹配成功: Hello\n",
      "匹配成功: hello\n",
      "匹配成功: hello\n"
     ]
    }
   ],
   "source": [
    "import re\n",
    "\n",
    "# 编译正则表达式模式，并使用多个标志\n",
    "pattern = re.compile(r'hello', re.IGNORECASE | re.MULTILINE)\n",
    "\n",
    "# 在文本中搜索匹配模式的所有位置\n",
    "text = 'Hello World\\nhello there\\nHi, hello!'\n",
    "matches = pattern.findall(text)\n",
    "\n",
    "# 输出匹配结果\n",
    "for match in matches:\n",
    "    print('匹配成功:', match)"
   ]
  },
  {
   "cell_type": "markdown",
   "id": "39d04392",
   "metadata": {
    "ExecuteTime": {
     "end_time": "2023-09-07T14:26:50.605579Z",
     "start_time": "2023-09-07T14:26:50.554543Z"
    }
   },
   "source": [
    "## 正则表达式语法"
   ]
  },
  {
   "cell_type": "markdown",
   "id": "91ca57ac",
   "metadata": {},
   "source": [
    "### 字面字符（Literal Characters）：\n",
    "字面字符直接匹配相应的字符。例如，正则表达式`abc`将匹配字符串中连续的字符\"abc\"。"
   ]
  },
  {
   "cell_type": "markdown",
   "id": "dcf83e8b",
   "metadata": {},
   "source": [
    "\n",
    "### 元字符（Metacharacters）：\n",
    "元字符具有特殊的含义，用于表示一类字符或者某种特殊的匹配方式。常见的元字符包括：\n",
    "   - `.`：匹配任意单个字符，除了换行符。\n",
    "   - `^`：匹配字符串的开头。\n",
    "   - `$`：匹配字符串的结尾。\n",
    "   - `*`：匹配前面的模式零次或多次。\n",
    "   - `+`：匹配前面的模式一次或多次。\n",
    "   - `?`：匹配前面的模式零次或一次。\n",
    "   - `|`：指定多个模式中的一个，匹配任意一个模式。\n",
    "   - `[]`：定义字符集，匹配其中的任意一个字符。\n",
    "   - `()`：分组，用于控制匹配的顺序和提取匹配的子串。\n",
    "   - `\\`：转义字符，用于匹配特殊字符本身。"
   ]
  },
  {
   "cell_type": "markdown",
   "id": "75730fde",
   "metadata": {},
   "source": [
    "**注意：**\n",
    "在正则表达式中，^符号有两种不同的含义，具体取决于它出现的位置：\n",
    "\n",
    "1. 当^位于字符类的开头，即[^...]形式，表示否定字符类，匹配除了指定字符类中的字符之外的任意一个字符。\n",
    "\n",
    "2. 当^位于正则表达式的开头，即^...形式，表示匹配字符串的开头位置。"
   ]
  },
  {
   "cell_type": "markdown",
   "id": "6d1b173b",
   "metadata": {},
   "source": [
    "### 字符集（Character Classes）：\n",
    "字符集用于匹配一个特定位置的多个字符中的任意一个。常见的字符集语法如下：\n",
    "   - `[abc]`：匹配字符\"a\"、\"b\"或\"c\"。\n",
    "   - `[a-z]`：匹配任意小写字母。\n",
    "   - `[A-Z]`：匹配任意大写字母。\n",
    "   - `[0-9]`：匹配任意数字。"
   ]
  },
  {
   "cell_type": "markdown",
   "id": "fa38b510",
   "metadata": {},
   "source": [
    "### 预定义字符集（Predefined Character Classes）：\n",
    "预定义字符集是一些常用字符集的简写形式。常见的预定义字符集包括：\n",
    "   - `\\d`：匹配任意数字，相当于`[0-9]`。\n",
    "   - `\\D`：匹配任意非数字字符，相当于`[^0-9]`。\n",
    "   - `\\w`：匹配任意字母、数字或下划线，相当于`[a-zA-Z0-9_]`。\n",
    "   - `\\W`：匹配任意非字母、数字或下划线，相当于`[^a-zA-Z0-9_]`。\n",
    "   - `\\s`：匹配任意空白字符，包括空格、制表符、换行符等。\n",
    "   - `\\S`：匹配任意非空白字符。\n",
    "   - `\\b`：匹配单词边界，用于匹配单词字符和非单词字符之间的位置。\n",
    "   - `\\B`：匹配非单词边界，用于匹配不在单词字符和非单词字符之间的位置。\n"
   ]
  },
  {
   "cell_type": "markdown",
   "id": "6127134d",
   "metadata": {},
   "source": [
    "示例：\n",
    "- \\b:单词边界是指一个**单词字符**与**非单词字符**之间的**位置**。单词字符包括**字母、数字和下划线**。"
   ]
  },
  {
   "cell_type": "code",
   "execution_count": 47,
   "id": "fec04c1b",
   "metadata": {
    "ExecuteTime": {
     "end_time": "2023-09-08T04:14:33.919567Z",
     "start_time": "2023-09-08T04:14:33.913736Z"
    }
   },
   "outputs": [
    {
     "name": "stdout",
     "output_type": "stream",
     "text": [
      "['apple']\n"
     ]
    }
   ],
   "source": [
    "import re\n",
    "\n",
    "pattern = r\"\\bapple\\b\" #r:不转义\n",
    "text = \"I have an apple and a pineapple.\"\n",
    "matches = re.findall(pattern, text)\n",
    "print(matches)  # 输出: ['apple']"
   ]
  },
  {
   "cell_type": "markdown",
   "id": "78bc7cde",
   "metadata": {},
   "source": [
    "在这个例子中，正则表达式`\\bapple\\b`匹配独立的单词\"apple\"，而不是包含在其他单词中的部分，如\"pineapple\"。"
   ]
  },
  {
   "cell_type": "markdown",
   "id": "9fc62d7a",
   "metadata": {},
   "source": [
    "### 量词（Quantifiers）：\n",
    "量词用于指定模式的重复次数。常见的量词包括：\n",
    "   - `{n}`：匹配前面的模式恰好出现n次。\n",
    "   - `{n,}`：匹配前面的模式至少出现n次。\n",
    "   - `{n,m}`：匹配前面的模式出现至少n次，最多m次。\n",
    "   - `*`：匹配前面的模式零次或多次，相当于`{0,}`。\n",
    "   - `+`：匹配前面的模式一次或多次，相当于`{1,}`。\n",
    "   - `?`：匹配前面的模式零次或一次，相当于`{0,1}`。"
   ]
  },
  {
   "cell_type": "markdown",
   "id": "69d5e7c2",
   "metadata": {},
   "source": [
    "### 修饰符(flags)"
   ]
  },
  {
   "cell_type": "markdown",
   "id": "e128cddf",
   "metadata": {},
   "source": [
    "常用的flags包括：\n",
    "\n",
    "- re.IGNORECASE（或re.I）：忽略大小写，使匹配对大小写不敏感。\n",
    "- re.MULTILINE（或re.M）：多行模式，使^和$匹配每行的开头和结尾，而不仅仅是整个字符串的开头和结尾。\n",
    "- re.DOTALL（或re.S）：点（.）匹配所有字符，包括换行符。\n",
    "- re.UNICODE（或re.U）：启用Unicode匹配模式，使预定义字符类（如\\w，\\s）能够匹配Unicode字符。\n",
    "- re.LOCALE（或re.L）：根据当前的本地化设置，使预定义字符类（如\\w，\\s）能够匹配本地化字符。\n",
    "- re.ASCII（或re.A）：使预定义字符类（如\\w，\\s）仅匹配ASCII字符。\n",
    "- re.VERBOSE（或re.X）：启用详细模式，可以在正则表达式中使用空白和注释，提高可读性。"
   ]
  },
  {
   "cell_type": "markdown",
   "id": "e607da9c",
   "metadata": {},
   "source": [
    "## 条件组合\n",
    "在正则表达式中，你可以使用多种方法来同时满足多个条件。下面是几种常用的方式："
   ]
  },
  {
   "cell_type": "markdown",
   "id": "5b2d6962",
   "metadata": {},
   "source": [
    "\n",
    "#### 字符串连接（Concatenation）\n",
    "你可以按照条件的顺序将多个模式字符串连接在一起，形成一个整体的匹配模式。例如，正则表达式pattern1pattern2将要求字符串同时满足pattern1和pattern2。\n"
   ]
  },
  {
   "cell_type": "markdown",
   "id": "be8d8871",
   "metadata": {},
   "source": [
    "示例："
   ]
  },
  {
   "cell_type": "markdown",
   "id": "73e8817a",
   "metadata": {},
   "source": [
    "字符串前用f开头表示格式化字符串（formatted string），可以在字符串中使用花括号（{}）作为占位符，并在其中指定要插入的变量或表达式。这些占位符可以包含格式说明符，用于指定变量在字符串中的显示格式。\n",
    "\n",
    "格式化字符串只能在Python 3.6及更高版本中使用。在旧版本的Python中，可以使用str.format()方法来执行类似的字符串格式化操作。"
   ]
  },
  {
   "cell_type": "code",
   "execution_count": 50,
   "id": "bccbb19e",
   "metadata": {
    "ExecuteTime": {
     "end_time": "2023-09-08T04:22:49.507998Z",
     "start_time": "2023-09-08T04:22:49.503984Z"
    }
   },
   "outputs": [
    {
     "name": "stdout",
     "output_type": "stream",
     "text": [
      "['apple', 'banana']\n"
     ]
    }
   ],
   "source": [
    "import re\n",
    "\n",
    "pattern1 = r\"apple\"\n",
    "pattern2 = r\"banana\"\n",
    "pattern3 = r\"cherry\"\n",
    "\n",
    "combined_pattern = f\"({pattern1}|{pattern2}|{pattern3})\" \n",
    "text = \"I have an apple and a banana.\"\n",
    "matches = re.findall(combined_pattern, text)\n",
    "print(matches)  # 输出: ['apple', 'banana']"
   ]
  },
  {
   "cell_type": "markdown",
   "id": "88cb1e23",
   "metadata": {},
   "source": [
    "\n",
    "#### 字符串分组（Grouping）：\n",
    "你可以使用括号将多个模式字符串分组，以创建更复杂的匹配模式。分组可以通过括号进行嵌套，形成层次结构。例如，正则表达式(pattern1)(pattern2)将要求字符串同时满足pattern1和pattern2，并将每个模式的匹配结果分别捕获。\n"
   ]
  },
  {
   "cell_type": "markdown",
   "id": "2fb44f52",
   "metadata": {},
   "source": [
    "\n",
    "#### 逻辑运算符（Logical Operators）：\n",
    "正则表达式提供了逻辑运算符来表示与、或、非等逻辑关系。常见的逻辑运算符包括：\n",
    "- |：表示或的关系。例如，正则表达式pattern1|pattern2将要求字符串满足pattern1或者pattern2。\n",
    "- (?=...)：表示正向预查。例如，正则表达式pattern1(?=pattern2)将要求字符串满足同时满足pattern1和pattern2，但只匹配pattern1。\n",
    "- (?!...)：表示负向预查。例如，正则表达式pattern1(?!pattern2)将要求字符串满足pattern1，但不能紧接着出现pattern2。"
   ]
  },
  {
   "cell_type": "code",
   "execution_count": 62,
   "id": "991293d0",
   "metadata": {
    "ExecuteTime": {
     "end_time": "2023-09-08T04:36:08.979387Z",
     "start_time": "2023-09-08T04:36:08.974248Z"
    }
   },
   "outputs": [
    {
     "name": "stdout",
     "output_type": "stream",
     "text": [
      "Match found!\n",
      "an apple, a banana, and a cherry.\n"
     ]
    }
   ],
   "source": [
    "import re\n",
    "\n",
    "pattern1 = r\"(?=.*apple)\"\n",
    "pattern2 = r\"(?=.*banana)\"\n",
    "pattern3 = r\"(?=.*cherry)\"\n",
    "\n",
    "combined_pattern = f\"an{pattern1}{pattern2}{pattern3}.*$\"\n",
    "text = \"I have an apple, a banana, and a cherry.\"\n",
    "match = re.search(combined_pattern, text)\n",
    "if match:\n",
    "    print(\"Match found!\")\n",
    "    print(match.group())\n",
    "else:\n",
    "    print(\"No match.\")"
   ]
  },
  {
   "cell_type": "markdown",
   "id": "97183dc2",
   "metadata": {},
   "source": [
    "在上述示例中，我们定义了三个模式字符串pattern1、pattern2和pattern3，分别表示包含\"apple\"、\"banana\"和\"cherry\"的条件。然后，我们使用正向肯定预查(?=...)将这些模式字符串连接在一起，并将它们作为整体的匹配条件。"
   ]
  }
 ],
 "metadata": {
  "kernelspec": {
   "display_name": "Python [conda env:notebook]",
   "language": "python",
   "name": "conda-env-notebook-py"
  },
  "language_info": {
   "codemirror_mode": {
    "name": "ipython",
    "version": 3
   },
   "file_extension": ".py",
   "mimetype": "text/x-python",
   "name": "python",
   "nbconvert_exporter": "python",
   "pygments_lexer": "ipython3",
   "version": "3.11.4"
  },
  "toc": {
   "base_numbering": 1,
   "nav_menu": {},
   "number_sections": true,
   "sideBar": true,
   "skip_h1_title": false,
   "title_cell": "Table of Contents",
   "title_sidebar": "Contents",
   "toc_cell": false,
   "toc_position": {
    "height": "calc(100% - 180px)",
    "left": "10px",
    "top": "150px",
    "width": "338.788px"
   },
   "toc_section_display": true,
   "toc_window_display": true
  },
  "varInspector": {
   "cols": {
    "lenName": 16,
    "lenType": 16,
    "lenVar": 40
   },
   "kernels_config": {
    "python": {
     "delete_cmd_postfix": "",
     "delete_cmd_prefix": "del ",
     "library": "var_list.py",
     "varRefreshCmd": "print(var_dic_list())"
    },
    "r": {
     "delete_cmd_postfix": ") ",
     "delete_cmd_prefix": "rm(",
     "library": "var_list.r",
     "varRefreshCmd": "cat(var_dic_list()) "
    }
   },
   "types_to_exclude": [
    "module",
    "function",
    "builtin_function_or_method",
    "instance",
    "_Feature"
   ],
   "window_display": false
  }
 },
 "nbformat": 4,
 "nbformat_minor": 5
}
